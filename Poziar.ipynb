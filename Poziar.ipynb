{
  "nbformat": 4,
  "nbformat_minor": 0,
  "metadata": {
    "colab": {
      "provenance": [],
      "authorship_tag": "ABX9TyMSgnX3wRu6HrstAASlUS47",
      "include_colab_link": true
    },
    "kernelspec": {
      "name": "python3",
      "display_name": "Python 3"
    },
    "language_info": {
      "name": "python"
    }
  },
  "cells": [
    {
      "cell_type": "markdown",
      "metadata": {
        "id": "view-in-github",
        "colab_type": "text"
      },
      "source": [
        "<a href=\"https://colab.research.google.com/github/matejvarady/Prva_hra/blob/main/Poziar.ipynb\" target=\"_parent\"><img src=\"https://colab.research.google.com/assets/colab-badge.svg\" alt=\"Open In Colab\"/></a>"
      ]
    },
    {
      "cell_type": "code",
      "execution_count": null,
      "metadata": {
        "id": "WlljElhGNF4N"
      },
      "outputs": [],
      "source": []
    },
    {
      "cell_type": "markdown",
      "source": [
        "**Maťko - senior programátor**\n",
        "\n",
        "Vymyslel príbeh\n",
        "\n",
        "Rozdelil prácu\n",
        "\n",
        "**Vivikeee - tester**\n",
        "\n",
        "Testovala hru\n",
        "\n",
        "**Vivien - junior programátor**\n",
        "\n",
        "Pomáhala pri programovaní\n",
        "\n",
        "**Kubinko - tester**\n",
        "\n",
        "Testoval druhý krát\n",
        "\n",
        "# POŽIAR\n",
        "\n",
        "Príbeh so štyrmi možnosťami na konci. Po výberu sa vytvorý ďalší časť príbehu.\n",
        "\n",
        "**Postup**\n",
        "1. Napíš príbeh o požiare v gymnáziu Pavla Jozefa Šafárika\n",
        "2. vyber si moznosti ako utiect pred poziarom\n",
        "\n"
      ],
      "metadata": {
        "id": "m67PgH97NHfc"
      }
    },
    {
      "cell_type": "code",
      "source": [
        "import sys\n",
        "\n",
        "def choose(options):\n",
        "    for i, text in enumerate(options, 1):\n",
        "        print(f\"{i}) {text}\")\n",
        "    choice = input(\"Vyber možnosť (1–4): \").strip()\n",
        "    if choice not in (\"1\",\"2\",\"3\",\"4\"):\n",
        "        print(\"Neplatný výber, skúšaj znova.\")\n",
        "        return choose(options)\n",
        "    return int(choice)\n",
        "\n",
        "def part_exit_building():\n",
        "    print(\"\\nSmeruješ k východu hlavnou chodbou. Dym hustne, viditeľnosť klesá.\")\n",
        "    options = [\n",
        "        \"Pokúsiš sa dostať von čo najrýchlejšie – bežíš.\",\n",
        "        \"Zastavíš sa, voláš na učiteľov a spolužiakov, aby si našiel ďalší východ.\",\n",
        "        \"Schováš sa do triedy a čakáš na pomoc.\",\n",
        "        \"Vraciaš sa po kamaráta, ktorý ostal za tebou.\"\n",
        "    ]\n",
        "    c = choose(options)\n",
        "    if c == 1:\n",
        "        end_outside()\n",
        "    elif c == 2:\n",
        "        part_find_exit()\n",
        "    elif c == 3:\n",
        "        part_hide_class()\n",
        "    else:\n",
        "        part_help_friend()\n",
        "\n",
        "def part_outside():\n",
        "    print(\"\\nPodarilo sa ti vyjsť von – si na školskom dvore, okolo už volajú hasiči.\")\n",
        "    print(\"Koniec – si v bezpečí. 🎉\")\n",
        "    sys.exit(0)\n",
        "\n",
        "def end_outside(): part_outside()\n",
        "\n",
        "def part_find_exit():\n",
        "    print(\"\\nPrejdeš vedľajšou chodbou, ale dvere sú zaseknuté.\")\n",
        "    options = [\n",
        "        \"Silno zatlačíš a otvoríš dvere.\",\n",
        "        \"Vrátiš sa späť do hlavnej chodby.\",\n",
        "        \"Skontroluješ, či sa cez okno dá uniknúť.\",\n",
        "        \"Voláš na pomoc, ale nikto neodpovedá.\"\n",
        "    ]\n",
        "    c = choose(options)\n",
        "    if c == 1:\n",
        "        part_breach_door()\n",
        "    elif c == 2:\n",
        "        part_exit_building()\n",
        "    elif c == 3:\n",
        "        part_window_escape()\n",
        "    else:\n",
        "        part_help_none()\n",
        "\n",
        "def part_breach_door():\n",
        "    print(\"\\nDvere sa otvorili – si mimo horiacej časti budovy.\")\n",
        "    end_outside()\n",
        "\n",
        "def part_window_escape():\n",
        "    print(\"\\nZ okna skáčeš dolu – trochu si poranený, ale si vonku.\")\n",
        "    end_outside()\n",
        "\n",
        "def part_help_none():\n",
        "    print(\"\\nDym je príliš hustý, stratíš orientáciu.\")\n",
        "    print(\"Koniec – bohužiaľ sa situácia nevyvíja dobre.\")\n",
        "    sys.exit(0)\n",
        "\n",
        "def part_hide_class():\n",
        "    print(\"\\nSkryješ sa v triede. Dym pomaly zapĺňa miestnosť.\")\n",
        "    options = [\n",
        "        \"Kričíš o pomoc.\",\n",
        "        \"Použiješ mokrú bundu na dýchanie pod maskou.\",\n",
        "        \"Skúsiš sa dostať ku dverám spät.\",\n",
        "        \"Zostaneš pokojný a čakáš na záchranku.\"\n",
        "    ]\n",
        "    c = choose(options)\n",
        "    if c == 1:\n",
        "        part_help_call()\n",
        "    elif c == 2:\n",
        "        part_use_jacket()\n",
        "    elif c == 3:\n",
        "        part_exit_building()\n",
        "    else:\n",
        "        print(\"\\nHasiči prichádzajú, nachádzajú ťa a vyvádzajú von.\")\n",
        "        part_outside()\n",
        "\n",
        "def part_help_call():\n",
        "    print(\"\\nVoláš o pomoc – niekto ťa počuje a vedie k východu.\")\n",
        "    end_outside()\n",
        "\n",
        "def part_use_jacket():\n",
        "    print(\"\\nVlaha bunda ti pomáha vydržať dym a prežiješ do príchodu záchranných zložiek.\")\n",
        "    end_outside()\n",
        "\n",
        "def part_help_friend():\n",
        "    print(\"\\nSleduješ dych kamaráta. Spoločne sa presúvate ku východu.\")\n",
        "    part_exit_building()\n",
        "\n",
        "if __name__ == \"__main__\":\n",
        "    print(\"Požiar v Gymnáziu Pavla Jozefa Šafárika (Rožňava). Máš štyri možnosti – vyber, ako reaguješ.\")\n",
        "    part_exit_building()\n",
        "\n"
      ],
      "metadata": {
        "colab": {
          "base_uri": "https://localhost:8080/",
          "height": 471
        },
        "id": "AB8_OMSwRTMa",
        "outputId": "c30bf7c9-9bb2-41b1-9f13-277510c031d5"
      },
      "execution_count": 2,
      "outputs": [
        {
          "output_type": "stream",
          "name": "stdout",
          "text": [
            "Požiar v Gymnáziu Pavla Jozefa Šafárika (Rožňava). Máš štyri možnosti – vyber, ako reaguješ.\n",
            "\n",
            "Smeruješ k východu hlavnou chodbou. Dym hustne, viditeľnosť klesá.\n",
            "1) Pokúsiš sa dostať von čo najrýchlejšie – bežíš.\n",
            "2) Zastavíš sa, voláš na učiteľov a spolužiakov, aby si našiel ďalší východ.\n",
            "3) Schováš sa do triedy a čakáš na pomoc.\n",
            "4) Vraciaš sa po kamaráta, ktorý ostal za tebou.\n",
            "Vyber možnosť (1–4): 2\n",
            "\n",
            "Prejdeš vedľajšou chodbou, ale dvere sú zaseknuté.\n",
            "1) Silno zatlačíš a otvoríš dvere.\n",
            "2) Vrátiš sa späť do hlavnej chodby.\n",
            "3) Skontroluješ, či sa cez okno dá uniknúť.\n",
            "4) Voláš na pomoc, ale nikto neodpovedá.\n",
            "Vyber možnosť (1–4): 3\n",
            "\n",
            "Z okna skáčeš dolu – trochu si poranený, ale si vonku.\n",
            "\n",
            "Podarilo sa ti vyjsť von – si na školskom dvore, okolo už volajú hasiči.\n",
            "Koniec – si v bezpečí. 🎉\n"
          ]
        },
        {
          "output_type": "error",
          "ename": "SystemExit",
          "evalue": "0",
          "traceback": [
            "An exception has occurred, use %tb to see the full traceback.\n",
            "\u001b[0;31mSystemExit\u001b[0m\u001b[0;31m:\u001b[0m 0\n"
          ]
        },
        {
          "output_type": "stream",
          "name": "stderr",
          "text": [
            "/usr/local/lib/python3.11/dist-packages/IPython/core/interactiveshell.py:3561: UserWarning: To exit: use 'exit', 'quit', or Ctrl-D.\n",
            "  warn(\"To exit: use 'exit', 'quit', or Ctrl-D.\", stacklevel=1)\n"
          ]
        }
      ]
    }
  ]
}