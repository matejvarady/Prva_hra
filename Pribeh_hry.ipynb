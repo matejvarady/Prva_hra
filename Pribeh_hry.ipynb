{
  "nbformat": 4,
  "nbformat_minor": 0,
  "metadata": {
    "colab": {
      "provenance": [],
      "authorship_tag": "ABX9TyOqtRJdcN017lHeLro6cWNd",
      "include_colab_link": true
    },
    "kernelspec": {
      "name": "python3",
      "display_name": "Python 3"
    },
    "language_info": {
      "name": "python"
    }
  },
  "cells": [
    {
      "cell_type": "markdown",
      "metadata": {
        "id": "view-in-github",
        "colab_type": "text"
      },
      "source": [
        "<a href=\"https://colab.research.google.com/github/matejvarady/Prva_hra/blob/main/Pribeh_hry.ipynb\" target=\"_parent\"><img src=\"https://colab.research.google.com/assets/colab-badge.svg\" alt=\"Open In Colab\"/></a>"
      ]
    },
    {
      "cell_type": "markdown",
      "source": [
        "# Príbeh hry\n",
        "Príbeh s dvomi možnosťami na konci. Po výberu sa vytvorý další časť príbehu. Vždy je len jedna možnosť správna.\n",
        "\n",
        "**Postup**\n",
        "1. Napíš príbeh\n",
        "2. Zvol si kde chceš ísť"
      ],
      "metadata": {
        "id": "6fBFKEQnAFS7"
      }
    },
    {
      "cell_type": "code",
      "source": [
        "def start():\n",
        "    print(\"Vitaj v dobrodružstve!\")\n",
        "    print(\"Nachádzaš sa na rázcestí v tmavom lese.\")\n",
        "    print(\"1. Vyberieš sa doľava.\")\n",
        "    print(\"2. Vyberieš sa doprava.\")\n",
        "    choice = input(\"Zadaj 1 alebo 2: \")\n",
        "    if choice == \"1\":\n",
        "        left_path()\n",
        "    elif choice == \"2\":\n",
        "        right_path()\n",
        "    else:\n",
        "        print(\"Neplatná voľba. Skús to znova.\")\n",
        "        start()\n",
        "\n",
        "def left_path():\n",
        "    print(\"\\nIdeš doľava a narazíš na rieku.\")\n",
        "    print(\"1. Pokúsiš sa preplávať rieku.\")\n",
        "    print(\"2. Hľadáš most.\")\n",
        "    choice = input(\"Zadaj 1 alebo 2: \")\n",
        "    if choice == \"1\":\n",
        "        print(\"\\nRieka má silný prúd a utopíš sa. Koniec hry.\")\n",
        "    elif choice == \"2\":\n",
        "        bridge()\n",
        "    else:\n",
        "        print(\"Neplatná voľba. Skús to znova.\")\n",
        "        left_path()\n",
        "\n",
        "def right_path():\n",
        "    print(\"\\nIdeš doprava a stretneš hladného medveďa.\")\n",
        "    print(\"1. Pokúsiš sa utiecť.\")\n",
        "    print(\"2. Zostaneš pokojný a cúvaš pomaly.\")\n",
        "    choice = input(\"Zadaj 1 alebo 2: \")\n",
        "    if choice == \"1\":\n",
        "        print(\"\\nMedveď je rýchlejší a dobehne ťa. Koniec hry.\")\n",
        "    elif choice == \"2\":\n",
        "        print(\"\\nMedveď ťa ignoruje a ty unikneš do bezpečia. Vyhral si!\")\n",
        "    else:\n",
        "        print(\"Neplatná voľba. Skús to znova.\")\n",
        "        right_path()\n",
        "\n",
        "def bridge():\n",
        "    print(\"\\nNájdeš starý most cez rieku.\")\n",
        "    print(\"1. Prejdeš po moste.\")\n",
        "    print(\"2. Rozhodneš sa vrátiť späť.\")\n",
        "    choice = input(\"Zadaj 1 alebo 2: \")\n",
        "    if choice == \"1\":\n",
        "        print(\"\\nMost sa pod tebou zrúti. Spadneš do rieky a utopíš sa. Koniec hry.\")\n",
        "    elif choice == \"2\":\n",
        "        print(\"\\nVrátiš sa späť na rázcestie.\")\n",
        "        start()\n",
        "    else:\n",
        "        print(\"Neplatná voľba. Skús to znova.\")\n",
        "        bridge()\n",
        "\n",
        "start()\n"
      ],
      "metadata": {
        "colab": {
          "base_uri": "https://localhost:8080/"
        },
        "id": "BLnWjSe6Bwli",
        "outputId": "57fdda79-55f3-4424-973b-919ecd9507b5"
      },
      "execution_count": 1,
      "outputs": [
        {
          "output_type": "stream",
          "name": "stdout",
          "text": [
            "Vitaj v dobrodružstve!\n",
            "Nachádzaš sa na rázcestí v tmavom lese.\n",
            "1. Vyberieš sa doľava.\n",
            "2. Vyberieš sa doprava.\n",
            "Zadaj 1 alebo 2: 2\n",
            "\n",
            "Ideš doprava a stretneš hladného medveďa.\n",
            "1. Pokúsiš sa utiecť.\n",
            "2. Zostaneš pokojný a cúvaš pomaly.\n",
            "Zadaj 1 alebo 2: 2\n",
            "\n",
            "Medveď ťa ignoruje a ty unikneš do bezpečia. Vyhral si!\n"
          ]
        }
      ]
    }
  ]
}